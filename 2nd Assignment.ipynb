{
 "cells": [
  {
   "cell_type": "markdown",
   "metadata": {},
   "source": [
    "## 1. Divisibility Check of two numbers\n",
    "\n",
    "Write a Python program to check whether a number is completely divisible by another number. Accept two integer values form the user\n",
    "##### Program Console Sample Output 1:\n",
    "Enter numerator: 4\n",
    "\n",
    "Enter Denominator: 2\n",
    "\n",
    "Number 4 is Completely divisible by 2\n",
    "###### Program Console Sample Output 2:\n",
    "Enter numerator: 7\n",
    "\n",
    "Enter Denominator: 4\n",
    "\n",
    "Number 7 is not Completely divisible by 4"
   ]
  },
  {
   "cell_type": "code",
   "execution_count": 9,
   "metadata": {},
   "outputs": [
    {
     "name": "stdout",
     "output_type": "stream",
     "text": [
      "ENTER NUMERATOR: 8\n",
      "ENTER DENOMINATOR: 4\n",
      "NUMBER 8 IS COMPLETELY DIVISIBLE BY 4\n"
     ]
    }
   ],
   "source": [
    "n1=int(input(\"ENTER NUMERATOR: \"))\n",
    "n2=int(input(\"ENTER DENOMINATOR: \"))\n",
    "if n1%n2 == 0:\n",
    "    print(\"NUMBER\",n1,\"IS COMPLETELY DIVISIBLE BY\",n2)\n",
    "else:\n",
    "    print(\"NUMBER\",n1,\"IS NOT COMPLETELY DIVISIBLE BY\",n2)"
   ]
  },
  {
   "cell_type": "markdown",
   "metadata": {},
   "source": [
    "# 2. Copy string n times\n",
    "Write a Python program to get a string which is n (non-negative integer) copies of a given string.\n",
    "##### Program Console Output:\n",
    "Enter String: Hi\n",
    "\n",
    "How many copies of String you need: 4\n",
    "\n",
    "4 Copies of Hi are HiHiHiHi"
   ]
  },
  {
   "cell_type": "code",
   "execution_count": 27,
   "metadata": {},
   "outputs": [
    {
     "name": "stdout",
     "output_type": "stream",
     "text": [
      "ENTER STRING :Hi\n",
      "HOW MANY STRINGS DO YOU NEED: 6\n",
      "6 COPIES OF Hi ARE HiHiHiHiHiHi\n"
     ]
    }
   ],
   "source": [
    "s=input(\"ENTER STRING :\")\n",
    "n=int(input(\"HOW MANY STRINGS DO YOU NEED: \"))\n",
    "print(n,\"COPIES OF\",s,\"ARE\",n*s)"
   ]
  },
  {
   "cell_type": "markdown",
   "metadata": {},
   "source": [
    "## 3. Vowel Tester\n",
    "Write a Python program to test whether a passed letter is a vowel or not\n",
    "#### Program Console Output 1:\n",
    "Enter a character: A\n",
    "\n",
    "Letter A is Vowel\n",
    "#### Program Console Output 2:\n",
    "Enter a character: e\n",
    "\n",
    "Letter e is Vowel\n",
    "#### Program Console Output 2:\n",
    "Enter a character: N\n",
    "Letter N is not Vowel"
   ]
  },
  {
   "cell_type": "code",
   "execution_count": 18,
   "metadata": {},
   "outputs": [
    {
     "name": "stdout",
     "output_type": "stream",
     "text": [
      "ENTER A CHARACTER: t\n",
      "LETTER t IS NOT VOWEL\n"
     ]
    }
   ],
   "source": [
    "vowels=[\"A\",\"E\",\"I\",\"O\",\"U\"]\n",
    "char=input(\"ENTER A CHARACTER: \")\n",
    "if char.upper() in vowels:\n",
    "    print(\"LETTER\",char,\"IS A VOWEL\")\n",
    "else:\n",
    "    print(\"LETTER\",char,\"IS NOT VOWEL\")"
   ]
  },
  {
   "cell_type": "markdown",
   "metadata": {},
   "source": [
    "## 4. Odd No.s\n",
    "Use the third argument of the range() function to make a list of the odd numbers from 1 to 20. Use a for loop to print each number."
   ]
  },
  {
   "cell_type": "code",
   "execution_count": 19,
   "metadata": {},
   "outputs": [
    {
     "name": "stdout",
     "output_type": "stream",
     "text": [
      "1\n",
      "3\n",
      "5\n",
      "7\n",
      "9\n",
      "11\n",
      "13\n",
      "15\n",
      "17\n",
      "19\n"
     ]
    }
   ],
   "source": [
    "for i in range(1,20,2):\n",
    "    print(i)"
   ]
  },
  {
   "cell_type": "markdown",
   "metadata": {},
   "source": [
    "## 5. Food Slicing\n",
    "Make a python program that contains your nine favourite dishes in a list called foods.Print the message, \n",
    "\n",
    "**The first three items in the list are:**\n",
    "\n",
    "Then use a slice to print the first three items from that program’s list.Print the message, \n",
    "\n",
    "**Three items from the middle of the list are:**\n",
    "\n",
    "Use a slice to print three items from the middle of the list.Print the message, \n",
    "\n",
    "**The last three items in the list are:**\n",
    "\n",
    "Use a slice to print the last three items in the list."
   ]
  },
  {
   "cell_type": "code",
   "execution_count": 26,
   "metadata": {},
   "outputs": [
    {
     "name": "stdout",
     "output_type": "stream",
     "text": [
      "THE FIRST THREE ITEMS IN THE LIST ARE: ['Pizza', 'Burger', 'Biryani']\n",
      "THREE ITEMS FROM THE MIDDLE OF THE LIST ARE: ['Shawarma', 'Lasagne', 'Chowmein']\n",
      "THE LAST THREE ITEMS IN THE LIST ARE: ['Prawns', 'Naswar', 'Tea']\n"
     ]
    }
   ],
   "source": [
    "foods=['Pizza','Burger','Biryani','Shawarma','Lasagne','Chowmein','Prawns','Naswar','Tea']\n",
    "print(\"THE FIRST THREE ITEMS IN THE LIST ARE:\",foods[0:3])\n",
    "print(\"THREE ITEMS FROM THE MIDDLE OF THE LIST ARE:\",foods[3:6])\n",
    "print(\"THE LAST THREE ITEMS IN THE LIST ARE:\",foods[-3:])"
   ]
  }
 ],
 "metadata": {
  "kernelspec": {
   "display_name": "Python 3",
   "language": "python",
   "name": "python3"
  },
  "language_info": {
   "codemirror_mode": {
    "name": "ipython",
    "version": 3
   },
   "file_extension": ".py",
   "mimetype": "text/x-python",
   "name": "python",
   "nbconvert_exporter": "python",
   "pygments_lexer": "ipython3",
   "version": "3.7.4"
  }
 },
 "nbformat": 4,
 "nbformat_minor": 2
}
